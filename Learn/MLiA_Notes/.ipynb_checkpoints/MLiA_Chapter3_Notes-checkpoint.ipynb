{
 "cells": [
  {
   "cell_type": "markdown",
   "metadata": {},
   "source": [
    "# Ch 3: Splitting datasets one feature at a time: decision trees\n",
    "\n",
    "The decision tree is one of the most commonly used classifiation techniques. The decision tree does a great job of distilling data into knowledge.\n",
    "\n",
    "### 3.1 Tree construction\n",
    "- Pros: Computationally cheap to use, easy for humans to understand learned results, missing values OK, can deal with irrelevant features\n",
    "- Cons: Prone to overfitting\n",
    "- Works with: Numeric values, nominal values\n",
    "\n",
    "<b>Information Theory</b>: The mathematics that decide how to split a dataset\n",
    "\n",
    "### General Approach to decision trees\n",
    "1.) <b>Collect</b>: Any method.\n",
    "\n",
    "2.) <b>Prepare</b>: This tree-bu\n",
    "\n",
    "3.) <b>Analyze</b>: Any method.\n",
    "\n",
    "4.) <b>Train</b>: Does not apply to kNN algorithm\n",
    "\n",
    "5.) <b>Test</b>: Calculate the error rate.\n",
    "\n",
    "6.) <b>Use</b>: This application needs to get some input data and output structured numeric"
   ]
  },
  {
   "cell_type": "code",
   "execution_count": null,
   "metadata": {
    "collapsed": true
   },
   "outputs": [],
   "source": []
  }
 ],
 "metadata": {
  "anaconda-cloud": {},
  "kernelspec": {
   "display_name": "Python [Root]",
   "language": "python",
   "name": "Python [Root]"
  },
  "language_info": {
   "codemirror_mode": {
    "name": "ipython",
    "version": 3
   },
   "file_extension": ".py",
   "mimetype": "text/x-python",
   "name": "python",
   "nbconvert_exporter": "python",
   "pygments_lexer": "ipython3",
   "version": "3.5.2"
  }
 },
 "nbformat": 4,
 "nbformat_minor": 0
}
