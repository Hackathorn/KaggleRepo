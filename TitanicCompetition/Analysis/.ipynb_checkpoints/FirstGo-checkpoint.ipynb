{
 "cells": [
  {
   "cell_type": "markdown",
   "metadata": {},
   "source": [
    "## Full example. Titanic dataset\n",
    "\n",
    "### Your first goal always should be getting a generalized prediction as fast as possible.\n",
    "- This doesn't mean to skip exploratory data analysis (EDA). It just means not get caught up on it. Initially do only what is needed to get a generalized prediction.\n",
    "- Getting a prediction first lets you set a benchmark for yourself. As you make improvements to the model, you should be able to see your desired error metric improve."
   ]
  },
  {
   "cell_type": "code",
   "execution_count": 114,
   "metadata": {
    "collapsed": true
   },
   "outputs": [],
   "source": [
    "# With the goal above. I will import just what I need.\n",
    "# The model to use (I already imported it above, but will do it again here so each example is self-contained)\n",
    "from sklearn.ensemble import RandomForestRegressor\n",
    "\n",
    "# The error metric. In this case, we will use c-stat (aka ROC/AUC)\n",
    "from sklearn.metrics import roc_auc_score\n",
    "\n",
    "# An efficient data structure.\n",
    "import pandas as pd\n",
    "\n",
    "%matplotlib inline\n",
    "\n",
    "# Import the data\n",
    "X = pd.read_csv('../input/train.csv')\n",
    "y = X.pop(\"Survived\")\n",
    "X_test = pd.read_csv('../input/test.csv')"
   ]
  },
  {
   "cell_type": "code",
   "execution_count": 115,
   "metadata": {
    "collapsed": false
   },
   "outputs": [
    {
     "name": "stderr",
     "output_type": "stream",
     "text": [
      "/Users/tedrand/anaconda/lib/python3.5/site-packages/numpy/lib/function_base.py:3834: RuntimeWarning: Invalid value encountered in percentile\n",
      "  RuntimeWarning)\n"
     ]
    },
    {
     "data": {
      "text/html": [
       "<div>\n",
       "<table border=\"1\" class=\"dataframe\">\n",
       "  <thead>\n",
       "    <tr style=\"text-align: right;\">\n",
       "      <th></th>\n",
       "      <th>PassengerId</th>\n",
       "      <th>Pclass</th>\n",
       "      <th>Age</th>\n",
       "      <th>SibSp</th>\n",
       "      <th>Parch</th>\n",
       "      <th>Fare</th>\n",
       "    </tr>\n",
       "  </thead>\n",
       "  <tbody>\n",
       "    <tr>\n",
       "      <th>count</th>\n",
       "      <td>891.000000</td>\n",
       "      <td>891.000000</td>\n",
       "      <td>714.000000</td>\n",
       "      <td>891.000000</td>\n",
       "      <td>891.000000</td>\n",
       "      <td>891.000000</td>\n",
       "    </tr>\n",
       "    <tr>\n",
       "      <th>mean</th>\n",
       "      <td>446.000000</td>\n",
       "      <td>2.308642</td>\n",
       "      <td>29.699118</td>\n",
       "      <td>0.523008</td>\n",
       "      <td>0.381594</td>\n",
       "      <td>32.204208</td>\n",
       "    </tr>\n",
       "    <tr>\n",
       "      <th>std</th>\n",
       "      <td>257.353842</td>\n",
       "      <td>0.836071</td>\n",
       "      <td>14.526497</td>\n",
       "      <td>1.102743</td>\n",
       "      <td>0.806057</td>\n",
       "      <td>49.693429</td>\n",
       "    </tr>\n",
       "    <tr>\n",
       "      <th>min</th>\n",
       "      <td>1.000000</td>\n",
       "      <td>1.000000</td>\n",
       "      <td>0.420000</td>\n",
       "      <td>0.000000</td>\n",
       "      <td>0.000000</td>\n",
       "      <td>0.000000</td>\n",
       "    </tr>\n",
       "    <tr>\n",
       "      <th>25%</th>\n",
       "      <td>223.500000</td>\n",
       "      <td>2.000000</td>\n",
       "      <td>NaN</td>\n",
       "      <td>0.000000</td>\n",
       "      <td>0.000000</td>\n",
       "      <td>7.910400</td>\n",
       "    </tr>\n",
       "    <tr>\n",
       "      <th>50%</th>\n",
       "      <td>446.000000</td>\n",
       "      <td>3.000000</td>\n",
       "      <td>NaN</td>\n",
       "      <td>0.000000</td>\n",
       "      <td>0.000000</td>\n",
       "      <td>14.454200</td>\n",
       "    </tr>\n",
       "    <tr>\n",
       "      <th>75%</th>\n",
       "      <td>668.500000</td>\n",
       "      <td>3.000000</td>\n",
       "      <td>NaN</td>\n",
       "      <td>1.000000</td>\n",
       "      <td>0.000000</td>\n",
       "      <td>31.000000</td>\n",
       "    </tr>\n",
       "    <tr>\n",
       "      <th>max</th>\n",
       "      <td>891.000000</td>\n",
       "      <td>3.000000</td>\n",
       "      <td>80.000000</td>\n",
       "      <td>8.000000</td>\n",
       "      <td>6.000000</td>\n",
       "      <td>512.329200</td>\n",
       "    </tr>\n",
       "  </tbody>\n",
       "</table>\n",
       "</div>"
      ],
      "text/plain": [
       "       PassengerId      Pclass         Age       SibSp       Parch        Fare\n",
       "count   891.000000  891.000000  714.000000  891.000000  891.000000  891.000000\n",
       "mean    446.000000    2.308642   29.699118    0.523008    0.381594   32.204208\n",
       "std     257.353842    0.836071   14.526497    1.102743    0.806057   49.693429\n",
       "min       1.000000    1.000000    0.420000    0.000000    0.000000    0.000000\n",
       "25%     223.500000    2.000000         NaN    0.000000    0.000000    7.910400\n",
       "50%     446.000000    3.000000         NaN    0.000000    0.000000   14.454200\n",
       "75%     668.500000    3.000000         NaN    1.000000    0.000000   31.000000\n",
       "max     891.000000    3.000000   80.000000    8.000000    6.000000  512.329200"
      ]
     },
     "execution_count": 115,
     "metadata": {},
     "output_type": "execute_result"
    }
   ],
   "source": [
    "X.describe()"
   ]
  },
  {
   "cell_type": "code",
   "execution_count": 116,
   "metadata": {
    "collapsed": false
   },
   "outputs": [
    {
     "data": {
      "text/html": [
       "<div>\n",
       "<table border=\"1\" class=\"dataframe\">\n",
       "  <thead>\n",
       "    <tr style=\"text-align: right;\">\n",
       "      <th></th>\n",
       "      <th>PassengerId</th>\n",
       "      <th>Pclass</th>\n",
       "      <th>Age</th>\n",
       "      <th>SibSp</th>\n",
       "      <th>Parch</th>\n",
       "      <th>Fare</th>\n",
       "    </tr>\n",
       "  </thead>\n",
       "  <tbody>\n",
       "    <tr>\n",
       "      <th>count</th>\n",
       "      <td>891.000000</td>\n",
       "      <td>891.000000</td>\n",
       "      <td>891.000000</td>\n",
       "      <td>891.000000</td>\n",
       "      <td>891.000000</td>\n",
       "      <td>891.000000</td>\n",
       "    </tr>\n",
       "    <tr>\n",
       "      <th>mean</th>\n",
       "      <td>446.000000</td>\n",
       "      <td>2.308642</td>\n",
       "      <td>29.699118</td>\n",
       "      <td>0.523008</td>\n",
       "      <td>0.381594</td>\n",
       "      <td>32.204208</td>\n",
       "    </tr>\n",
       "    <tr>\n",
       "      <th>std</th>\n",
       "      <td>257.353842</td>\n",
       "      <td>0.836071</td>\n",
       "      <td>13.002015</td>\n",
       "      <td>1.102743</td>\n",
       "      <td>0.806057</td>\n",
       "      <td>49.693429</td>\n",
       "    </tr>\n",
       "    <tr>\n",
       "      <th>min</th>\n",
       "      <td>1.000000</td>\n",
       "      <td>1.000000</td>\n",
       "      <td>0.420000</td>\n",
       "      <td>0.000000</td>\n",
       "      <td>0.000000</td>\n",
       "      <td>0.000000</td>\n",
       "    </tr>\n",
       "    <tr>\n",
       "      <th>25%</th>\n",
       "      <td>223.500000</td>\n",
       "      <td>2.000000</td>\n",
       "      <td>22.000000</td>\n",
       "      <td>0.000000</td>\n",
       "      <td>0.000000</td>\n",
       "      <td>7.910400</td>\n",
       "    </tr>\n",
       "    <tr>\n",
       "      <th>50%</th>\n",
       "      <td>446.000000</td>\n",
       "      <td>3.000000</td>\n",
       "      <td>29.699118</td>\n",
       "      <td>0.000000</td>\n",
       "      <td>0.000000</td>\n",
       "      <td>14.454200</td>\n",
       "    </tr>\n",
       "    <tr>\n",
       "      <th>75%</th>\n",
       "      <td>668.500000</td>\n",
       "      <td>3.000000</td>\n",
       "      <td>35.000000</td>\n",
       "      <td>1.000000</td>\n",
       "      <td>0.000000</td>\n",
       "      <td>31.000000</td>\n",
       "    </tr>\n",
       "    <tr>\n",
       "      <th>max</th>\n",
       "      <td>891.000000</td>\n",
       "      <td>3.000000</td>\n",
       "      <td>80.000000</td>\n",
       "      <td>8.000000</td>\n",
       "      <td>6.000000</td>\n",
       "      <td>512.329200</td>\n",
       "    </tr>\n",
       "  </tbody>\n",
       "</table>\n",
       "</div>"
      ],
      "text/plain": [
       "       PassengerId      Pclass         Age       SibSp       Parch        Fare\n",
       "count   891.000000  891.000000  891.000000  891.000000  891.000000  891.000000\n",
       "mean    446.000000    2.308642   29.699118    0.523008    0.381594   32.204208\n",
       "std     257.353842    0.836071   13.002015    1.102743    0.806057   49.693429\n",
       "min       1.000000    1.000000    0.420000    0.000000    0.000000    0.000000\n",
       "25%     223.500000    2.000000   22.000000    0.000000    0.000000    7.910400\n",
       "50%     446.000000    3.000000   29.699118    0.000000    0.000000   14.454200\n",
       "75%     668.500000    3.000000   35.000000    1.000000    0.000000   31.000000\n",
       "max     891.000000    3.000000   80.000000    8.000000    6.000000  512.329200"
      ]
     },
     "execution_count": 116,
     "metadata": {},
     "output_type": "execute_result"
    }
   ],
   "source": [
    "# Impute Age with mean to fix error\n",
    "X[\"Age\"].fillna(X.Age.mean(), inplace=True)\n",
    "X_test[\"Age\"].fillna(X.Age.mean(), inplace=True)\n",
    "# Confirm the code is correct\n",
    "X.describe()"
   ]
  },
  {
   "cell_type": "code",
   "execution_count": 85,
   "metadata": {
    "collapsed": false
   },
   "outputs": [
    {
     "data": {
      "text/html": [
       "<div>\n",
       "<table border=\"1\" class=\"dataframe\">\n",
       "  <thead>\n",
       "    <tr style=\"text-align: right;\">\n",
       "      <th></th>\n",
       "      <th>PassengerId</th>\n",
       "      <th>Pclass</th>\n",
       "      <th>Age</th>\n",
       "      <th>SibSp</th>\n",
       "      <th>Parch</th>\n",
       "      <th>Fare</th>\n",
       "    </tr>\n",
       "  </thead>\n",
       "  <tbody>\n",
       "    <tr>\n",
       "      <th>0</th>\n",
       "      <td>1</td>\n",
       "      <td>3</td>\n",
       "      <td>22.0</td>\n",
       "      <td>1</td>\n",
       "      <td>0</td>\n",
       "      <td>7.2500</td>\n",
       "    </tr>\n",
       "    <tr>\n",
       "      <th>1</th>\n",
       "      <td>2</td>\n",
       "      <td>1</td>\n",
       "      <td>38.0</td>\n",
       "      <td>1</td>\n",
       "      <td>0</td>\n",
       "      <td>71.2833</td>\n",
       "    </tr>\n",
       "    <tr>\n",
       "      <th>2</th>\n",
       "      <td>3</td>\n",
       "      <td>3</td>\n",
       "      <td>26.0</td>\n",
       "      <td>0</td>\n",
       "      <td>0</td>\n",
       "      <td>7.9250</td>\n",
       "    </tr>\n",
       "    <tr>\n",
       "      <th>3</th>\n",
       "      <td>4</td>\n",
       "      <td>1</td>\n",
       "      <td>35.0</td>\n",
       "      <td>1</td>\n",
       "      <td>0</td>\n",
       "      <td>53.1000</td>\n",
       "    </tr>\n",
       "    <tr>\n",
       "      <th>4</th>\n",
       "      <td>5</td>\n",
       "      <td>3</td>\n",
       "      <td>35.0</td>\n",
       "      <td>0</td>\n",
       "      <td>0</td>\n",
       "      <td>8.0500</td>\n",
       "    </tr>\n",
       "  </tbody>\n",
       "</table>\n",
       "</div>"
      ],
      "text/plain": [
       "   PassengerId  Pclass   Age  SibSp  Parch     Fare\n",
       "0            1       3  22.0      1      0   7.2500\n",
       "1            2       1  38.0      1      0  71.2833\n",
       "2            3       3  26.0      0      0   7.9250\n",
       "3            4       1  35.0      1      0  53.1000\n",
       "4            5       3  35.0      0      0   8.0500"
      ]
     },
     "execution_count": 85,
     "metadata": {},
     "output_type": "execute_result"
    }
   ],
   "source": [
    "# Get just the numeric variables by selecting only the variables that are not \n",
    "# \"object\" datatypes.\n",
    "numeric_variables = list(X.dtypes[X.dtypes != \"object\"].index)\n",
    "X[numeric_variables].head()"
   ]
  },
  {
   "cell_type": "markdown",
   "metadata": {},
   "source": [
    "I notice PassengerId looks like a worthless variable. I leave it in for two reasons. First, I don't want to go through the effort of dropping it (although that would be very easy). Second, I am interested in seeing if it is useful for prediction. It might be useful if the PassengerId was assigned in some non-random way. For example, perhaps PassengerId was assigned based on when the ticket was purchased in which case there might be something predictive about people who purchased their tickets early or late."
   ]
  },
  {
   "cell_type": "code",
   "execution_count": 86,
   "metadata": {
    "collapsed": false
   },
   "outputs": [
    {
     "data": {
      "text/plain": [
       "RandomForestRegressor(bootstrap=True, criterion='mse', max_depth=None,\n",
       "           max_features='auto', max_leaf_nodes=None, min_samples_leaf=1,\n",
       "           min_samples_split=2, min_weight_fraction_leaf=0.0,\n",
       "           n_estimators=100, n_jobs=1, oob_score=True, random_state=42,\n",
       "           verbose=0, warm_start=False)"
      ]
     },
     "execution_count": 86,
     "metadata": {},
     "output_type": "execute_result"
    }
   ],
   "source": [
    "# Let's build our first model. I always have oob_score=True. It is a good\n",
    "# idea to increase n_estimators higher than default.\n",
    "model = RandomForestRegressor(n_estimators=100, oob_score=True, random_state=42)\n",
    "\n",
    "# I only use numeric_variables because I have yet to dummy out the categoricals\n",
    "model.fit(X[numeric_variables], y)"
   ]
  },
  {
   "cell_type": "code",
   "execution_count": 87,
   "metadata": {
    "collapsed": false
   },
   "outputs": [
    {
     "data": {
      "text/plain": [
       "0.1361695005913669"
      ]
     },
     "execution_count": 87,
     "metadata": {},
     "output_type": "execute_result"
    }
   ],
   "source": [
    "# oob - out of bag\n",
    "# gives the R^2 based on the oob predictions.\n",
    "model.oob_score_"
   ]
  },
  {
   "cell_type": "code",
   "execution_count": 88,
   "metadata": {
    "collapsed": false
   },
   "outputs": [
    {
     "name": "stdout",
     "output_type": "stream",
     "text": [
      "c - stat:  0.73995515504\n"
     ]
    }
   ],
   "source": [
    "y_oob = model.oob_prediction_\n",
    "print(\"c - stat: \", roc_auc_score(y, y_oob))"
   ]
  },
  {
   "cell_type": "markdown",
   "metadata": {},
   "source": [
    "We now have a benchmark. This isn't very good for this dataset; however, it provides us a benchmark."
   ]
  },
  {
   "cell_type": "code",
   "execution_count": 89,
   "metadata": {
    "collapsed": false
   },
   "outputs": [
    {
     "data": {
      "text/plain": [
       "array([ 0.71111111,  0.72413793,  0.02325581,  0.47368421,  0.16666667,\n",
       "        0.34146341,  0.64705882,  0.17647059,  0.52777778,  0.75609756,\n",
       "        0.72222222,  0.29411765,  0.38709677,  0.625     ,  0.87096774,\n",
       "        0.46875   ,  0.04444444,  0.78571429,  0.41304348,  0.24242424,\n",
       "        0.88571429,  0.64102564,  0.35897436,  0.5       ,  0.27777778,\n",
       "        0.05128205,  0.88636364,  0.71428571,  0.46875   ,  0.36842105,\n",
       "        0.47368421,  0.23684211,  0.84090909,  0.67647059,  0.82051282,\n",
       "        0.475     ,  0.33333333,  0.225     ,  0.18421053,  0.53191489,\n",
       "        0.275     ,  0.57777778,  0.11904762,  0.90625   ,  0.36363636,\n",
       "        0.0625    ,  0.61764706,  0.62162162,  0.44186047,  0.16129032,\n",
       "        0.25      ,  0.70833333,  0.25      ,  0.61290323,  0.36363636,\n",
       "        0.4       ,  0.66666667,  0.5       ,  1.        ,  0.13157895,\n",
       "        0.33333333,  0.2       ,  0.76923077,  0.21428571,  0.5       ,\n",
       "        0.25      ,  0.36842105,  0.33333333,  0.4516129 ,  0.10526316,\n",
       "        0.88888889,  0.13157895,  0.51351351,  0.23076923,  0.34146341,\n",
       "        0.56410256,  0.1       ,  0.03030303,  0.97222222,  0.41860465,\n",
       "        0.11428571,  0.07142857,  0.52631579,  0.44444444,  0.54761905,\n",
       "        0.16129032,  0.28571429,  0.        ,  0.20512821,  0.        ,\n",
       "        0.06060606,  0.75      ,  0.34482759,  0.6       ,  0.18421053,\n",
       "        0.        ,  0.12820513,  0.26470588,  0.4       ,  0.57142857,\n",
       "        0.        ,  0.        ,  0.58823529,  0.02777778,  0.14893617,\n",
       "        0.02941176,  0.2195122 ,  0.30232558,  0.04651163,  0.38095238,\n",
       "        0.1       ,  0.51282051,  0.        ,  0.32352941,  0.16666667,\n",
       "        0.07317073,  0.2       ,  0.59090909,  0.4       ,  0.15384615,\n",
       "        0.14285714,  0.        ,  0.23333333,  0.28205128,  0.40540541,\n",
       "        0.4       ,  0.72727273,  0.08823529,  0.41025641,  0.18604651,\n",
       "        0.        ,  0.475     ,  0.09090909,  0.14705882,  0.30769231,\n",
       "        0.41463415,  0.57894737,  0.575     ,  0.33333333,  0.52272727,\n",
       "        0.79411765,  0.425     ,  0.20512821,  0.26315789,  0.42857143,\n",
       "        0.7173913 ,  0.375     ,  0.3125    ,  0.57777778,  0.5       ,\n",
       "        0.17777778,  0.25714286,  0.05263158,  0.10526316,  0.1875    ,\n",
       "        0.2972973 ,  0.36842105,  0.06451613,  0.02040816,  0.        ,\n",
       "        0.16666667,  0.28205128,  0.66666667,  0.22857143,  0.15384615,\n",
       "        0.44444444,  0.29787234,  0.1       ,  0.3125    ,  0.6       ,\n",
       "        0.        ,  0.13333333,  0.84090909,  0.21875   ,  0.06896552,\n",
       "        0.74285714,  0.25806452,  0.35897436,  0.26190476,  0.13157895,\n",
       "        0.        ,  0.41025641,  0.16129032,  0.94594595,  0.76315789,\n",
       "        0.36111111,  0.37142857,  0.40909091,  0.23529412,  0.04878049,\n",
       "        0.05555556,  0.31707317,  0.34285714,  0.97435897,  0.48780488,\n",
       "        0.52173913,  0.64516129,  0.02702703,  0.        ,  0.25      ,\n",
       "        0.35483871,  0.02702703,  0.02857143,  0.09090909,  0.65384615,\n",
       "        0.8974359 ,  0.47368421,  0.3030303 ,  0.51724138,  0.34693878,\n",
       "        0.25714286,  0.45      ,  0.2       ,  0.42857143,  0.51351351,\n",
       "        0.94444444,  0.09375   ,  0.5       ,  0.9       ,  0.23076923,\n",
       "        0.64516129,  0.29032258,  0.08695652,  0.15151515,  0.81818182,\n",
       "        0.275     ,  0.05405405,  0.125     ,  0.39534884,  0.21212121,\n",
       "        0.91666667,  0.0625    ,  0.10810811,  0.35294118,  0.13953488,\n",
       "        0.        ,  0.34482759,  0.92592593,  0.42857143,  0.39473684,\n",
       "        0.43902439,  0.34146341,  0.18181818,  0.06666667,  0.08108108,\n",
       "        0.78125   ,  0.27272727,  0.52777778,  0.70588235,  0.23333333,\n",
       "        0.06060606,  0.25714286,  0.13953488,  0.7       ,  0.425     ,\n",
       "        0.36363636,  0.77419355,  0.95348837,  0.82352941,  0.34285714,\n",
       "        0.28571429,  0.15909091,  0.9375    ,  0.07894737,  0.47619048,\n",
       "        0.11111111,  0.12121212,  0.23684211,  0.4       ,  0.86111111,\n",
       "        0.39534884,  0.09756098,  0.42424242,  0.54545455,  0.34146341,\n",
       "        0.54545455,  0.35      ,  0.28571429,  0.22580645,  0.2195122 ,\n",
       "        0.15151515,  0.625     ,  0.37037037,  0.13953488,  0.43902439,\n",
       "        0.29166667,  0.10810811,  0.25      ,  0.22222222,  0.59459459,\n",
       "        0.82926829,  0.75609756,  0.68421053,  0.11904762,  0.07317073,\n",
       "        0.48648649,  0.34883721,  0.96969697,  0.125     ,  0.6       ,\n",
       "        0.63636364,  0.72222222,  0.46153846,  0.4       ,  0.21875   ,\n",
       "        0.44117647,  0.95121951,  0.70454545,  0.45      ,  0.84615385,\n",
       "        0.93548387,  0.80487805,  0.7       ,  0.02702703,  0.48780488,\n",
       "        0.42857143,  0.38709677,  0.27272727,  0.60465116,  0.88095238,\n",
       "        0.4047619 ,  0.21052632,  0.48648649,  0.66666667,  0.14285714,\n",
       "        0.82222222,  0.29268293,  0.35      ,  0.47222222,  0.91428571,\n",
       "        0.55555556,  0.41025641,  0.925     ,  0.42857143,  0.725     ,\n",
       "        0.12820513,  0.97297297,  0.925     ,  0.12820513,  0.2       ,\n",
       "        0.975     ,  0.64444444,  0.53846154,  0.60526316,  0.72727273,\n",
       "        0.29411765,  0.42857143,  0.33333333,  0.9       ,  0.45945946,\n",
       "        0.21212121,  0.26315789,  0.51282051,  0.5       ,  0.32352941,\n",
       "        0.22222222,  0.85714286,  0.71052632,  0.65625   ,  0.74358974,\n",
       "        0.21621622,  0.37142857,  0.39473684,  0.25806452,  0.68571429,\n",
       "        0.51351351,  0.73333333,  0.125     ,  0.63636364,  0.77142857,\n",
       "        0.71052632,  0.25714286,  0.45652174,  0.97222222,  0.2972973 ,\n",
       "        0.88571429,  0.21052632,  0.46341463,  0.28888889,  0.55555556,\n",
       "        0.7       ,  0.93103448,  0.41025641,  0.45945946,  0.07142857,\n",
       "        0.71428571,  0.35483871,  0.28125   ,  0.40740741,  0.575     ,\n",
       "        0.73684211,  0.        ,  0.28571429,  0.66666667,  0.30232558,\n",
       "        0.7       ,  0.35555556,  0.41666667,  0.5       ,  0.41176471,\n",
       "        0.18604651,  0.125     ,  0.07142857,  0.52631579,  0.02702703,\n",
       "        0.64516129,  0.27083333,  0.97058824,  0.13333333,  0.02941176,\n",
       "        0.05      ,  0.10344828,  1.        ,  0.10344828,  0.36842105,\n",
       "        0.17857143,  0.5       ,  0.6       ,  0.72972973,  0.56521739,\n",
       "        0.10526316,  0.14285714,  0.425     ,  0.31818182,  0.36842105,\n",
       "        0.02857143,  0.66666667,  0.86666667,  0.14705882,  0.14893617,\n",
       "        0.72222222,  0.3       ,  0.5       ,  0.14705882,  0.94871795,\n",
       "        0.88888889,  0.23529412,  0.875     ,  0.68571429,  0.56756757,\n",
       "        0.48780488,  0.23684211,  0.21052632,  0.43243243,  0.02777778,\n",
       "        0.89655172,  0.94871795,  0.71052632,  0.75757576,  0.30769231,\n",
       "        0.88636364,  0.45454545,  0.8       ,  0.54285714,  0.32142857,\n",
       "        0.10810811,  0.05263158,  0.31428571,  0.45714286,  0.1       ,\n",
       "        0.19512195,  0.08333333,  0.34375   ,  0.725     ,  0.07692308,\n",
       "        0.03333333,  0.09677419,  0.25      ,  0.03571429,  0.90697674,\n",
       "        0.02631579,  0.0952381 ,  0.43589744,  0.5       ,  0.25      ,\n",
       "        0.76470588,  0.71794872,  0.17241379,  0.38888889,  0.96774194,\n",
       "        0.07317073,  0.07692308,  0.37209302,  0.15      ,  0.84782609,\n",
       "        0.07142857,  0.94871795,  0.19354839,  0.02777778,  0.23076923,\n",
       "        0.11764706,  0.23684211,  0.27906977,  0.17948718,  0.02857143,\n",
       "        0.05405405,  0.8125    ,  0.17647059,  0.65116279,  0.20588235,\n",
       "        0.05      ,  0.3255814 ,  0.        ,  0.15625   ,  0.75      ,\n",
       "        0.90625   ,  0.66666667,  0.57142857,  0.36111111,  0.43902439,\n",
       "        0.06060606,  0.06896552,  0.82608696,  0.59375   ,  0.21052632,\n",
       "        0.18421053,  0.3125    ,  0.3       ,  0.66666667,  0.34375   ,\n",
       "        0.88372093,  0.11764706,  0.        ,  0.8       ,  0.02777778,\n",
       "        0.10714286,  0.60465116,  0.44      ,  0.31818182,  0.72727273,\n",
       "        1.        ,  0.03030303,  0.2972973 ,  0.05263158,  0.08823529,\n",
       "        1.        ,  0.79310345,  0.69565217,  0.09677419,  0.81395349,\n",
       "        0.78947368,  0.04081633,  0.02325581,  0.72727273,  0.86486486,\n",
       "        0.06896552,  0.7027027 ,  0.48648649,  0.53846154,  0.93939394,\n",
       "        0.84375   ,  0.8125    ,  0.5       ,  0.13513514,  0.23809524,\n",
       "        0.        ,  0.3       ,  0.72972973,  0.86046512,  0.07894737,\n",
       "        0.35      ,  0.16666667,  0.76744186,  0.025     ,  0.02941176,\n",
       "        0.27777778,  0.08695652,  0.64864865,  0.30555556,  0.14705882,\n",
       "        0.3125    ,  0.6       ,  0.66666667,  0.10810811,  0.28      ,\n",
       "        0.18518519,  0.57142857,  0.78378378,  0.2195122 ,  0.13513514,\n",
       "        0.5       ,  0.66666667,  0.18518519,  0.5483871 ,  0.18604651,\n",
       "        0.78947368,  0.3125    ,  0.54347826,  0.05405405,  0.        ,\n",
       "        0.        ,  0.86486486,  0.        ,  0.41176471,  0.56756757,\n",
       "        0.10526316,  0.26829268,  0.04347826,  0.        ,  0.76470588,\n",
       "        0.8       ,  0.        ,  0.51612903,  0.11111111,  0.72972973,\n",
       "        0.2972973 ,  0.        ,  0.5       ,  0.82857143,  0.69230769,\n",
       "        0.02564103,  0.        ,  0.125     ,  0.21621622,  0.        ,\n",
       "        0.74193548,  0.08108108,  0.26470588,  0.95555556,  0.4       ,\n",
       "        0.2972973 ,  0.86842105,  0.17647059,  0.11363636,  0.26829268,\n",
       "        0.33333333,  0.22580645,  0.83783784,  0.02272727,  0.36363636,\n",
       "        0.03703704,  0.        ,  0.71875   ,  0.08333333,  0.025     ,\n",
       "        0.33333333,  0.41935484,  0.88888889,  0.14285714,  0.46153846,\n",
       "        0.11627907,  0.82051282,  0.19047619,  0.75      ,  0.86666667,\n",
       "        1.        ,  0.06818182,  0.13953488,  0.30769231,  0.18181818,\n",
       "        0.09375   ,  0.675     ,  0.13636364,  0.        ,  0.4375    ,\n",
       "        0.51612903,  0.23076923,  0.61290323,  0.23255814,  0.75609756,\n",
       "        0.32432432,  0.        ,  0.52272727,  0.04347826,  0.02777778,\n",
       "        0.4       ,  0.24390244,  0.41463415,  0.02777778,  0.375     ,\n",
       "        0.20512821,  0.83333333,  0.38095238,  0.47058824,  0.1875    ,\n",
       "        0.13888889,  0.15555556,  0.        ,  0.08823529,  0.81818182,\n",
       "        0.2       ,  0.79411765,  0.175     ,  0.02083333,  0.625     ,\n",
       "        0.77272727,  0.        ,  0.33333333,  0.02702703,  0.8       ,\n",
       "        0.64285714,  0.94736842,  0.71428571,  0.33333333,  0.35897436,\n",
       "        0.29411765,  0.09375   ,  0.29032258,  0.83783784,  0.2       ,\n",
       "        0.55      ,  0.75555556,  0.60526316,  0.475     ,  0.17948718,\n",
       "        0.62222222,  0.11764706,  0.59259259,  0.5       ,  0.12820513,\n",
       "        0.51162791,  0.925     ,  0.54285714,  0.19047619,  0.17391304,\n",
       "        0.41860465,  0.86111111,  0.11764706,  0.34883721,  0.10526316,\n",
       "        0.95833333,  0.30952381,  0.51282051,  0.3       ,  0.72222222,\n",
       "        0.18181818,  0.37837838,  0.13513514,  0.41666667,  0.4       ,\n",
       "        0.58139535,  0.57692308,  0.08333333,  0.        ,  0.        ,\n",
       "        0.025     ,  0.15      ,  0.85714286,  0.04545455,  0.10714286,\n",
       "        0.21875   ,  1.        ,  0.68571429,  0.09375   ,  0.125     ,\n",
       "        0.65789474,  0.11111111,  0.12195122,  0.83333333,  0.18421053,\n",
       "        0.95238095,  0.75675676,  0.06896552,  0.        ,  0.63888889,\n",
       "        0.81818182,  0.24324324,  0.11904762,  0.        ,  0.84210526,\n",
       "        0.        ,  0.        ,  0.30555556,  0.78125   ,  0.3030303 ,\n",
       "        0.68571429,  0.23529412,  0.        ,  0.03125   ,  0.36363636,\n",
       "        0.03703704,  0.16666667,  0.38095238,  0.02325581,  0.36111111,\n",
       "        0.19444444,  0.06060606,  0.8974359 ,  0.61764706,  0.81818182,\n",
       "        0.53125   ,  0.55263158,  0.69230769,  0.10344828,  0.25641026,\n",
       "        0.27272727,  0.2       ,  0.        ,  0.93023256,  0.94594595,\n",
       "        0.20588235,  0.70967742,  0.09090909,  0.7       ,  0.07142857,\n",
       "        0.11111111,  0.55813953,  0.34210526,  0.1627907 ,  0.13157895,\n",
       "        0.17073171,  0.22857143,  0.96774194,  0.55172414,  0.05714286,\n",
       "        0.23076923,  0.02941176,  0.35135135,  0.14285714,  0.76744186,\n",
       "        0.15789474,  0.06818182,  0.13953488,  0.52941176,  0.18181818,\n",
       "        0.        ,  0.10526316,  0.5483871 ,  0.06818182,  0.13513514,\n",
       "        0.8       ,  0.2       ,  0.02439024,  0.48648649,  0.125     ,\n",
       "        0.47222222,  0.8974359 ,  0.95121951,  0.        ,  0.59459459,\n",
       "        0.20512821,  0.97297297,  0.32352941,  0.09375   ,  0.14705882,\n",
       "        0.97560976,  0.1025641 ,  0.0952381 ,  0.29411765,  0.53125   ,\n",
       "        0.13888889,  0.42105263,  0.58823529,  0.09375   ,  0.11111111,\n",
       "        0.05882353,  0.10526316,  0.        ,  0.80952381,  0.83783784,\n",
       "        0.26666667,  0.30952381,  0.80555556,  0.88571429,  0.85      ,\n",
       "        0.1875    ,  0.74358974,  0.78947368,  0.34146341,  0.23333333,\n",
       "        0.19047619,  0.16216216,  0.90322581,  0.05128205,  0.35714286,\n",
       "        0.16666667,  0.5       ,  0.75609756,  0.09090909,  0.72727273,\n",
       "        0.05263158,  0.72972973,  0.15384615,  0.17142857,  0.75      ,\n",
       "        0.475     ,  0.20512821,  0.15151515,  0.        ,  0.84615385,\n",
       "        0.5625    ,  0.        ,  0.1       ,  0.41666667,  0.31034483,\n",
       "        0.12121212,  0.74418605,  0.70588235,  0.28947368,  0.78125   ,\n",
       "        0.33333333])"
      ]
     },
     "execution_count": 89,
     "metadata": {},
     "output_type": "execute_result"
    }
   ],
   "source": [
    "y_oob"
   ]
  },
  {
   "cell_type": "code",
   "execution_count": 90,
   "metadata": {
    "collapsed": true
   },
   "outputs": [],
   "source": [
    "# Here is a simple function to show the descriptive stats on the categorical variables\n",
    "def describe_categorical(X):\n",
    "    \"\"\"\n",
    "    Just like .describe(), but returns the results for\n",
    "    categorical variables only.\n",
    "    \"\"\"\n",
    "    from IPython.display import display, HTML\n",
    "    display(HTML(X[X.columns[X.dtypes == \"object\"]].describe().to_html()))"
   ]
  },
  {
   "cell_type": "code",
   "execution_count": 91,
   "metadata": {
    "collapsed": false
   },
   "outputs": [
    {
     "data": {
      "text/html": [
       "<table border=\"1\" class=\"dataframe\">\n",
       "  <thead>\n",
       "    <tr style=\"text-align: right;\">\n",
       "      <th></th>\n",
       "      <th>Name</th>\n",
       "      <th>Sex</th>\n",
       "      <th>Ticket</th>\n",
       "      <th>Cabin</th>\n",
       "      <th>Embarked</th>\n",
       "    </tr>\n",
       "  </thead>\n",
       "  <tbody>\n",
       "    <tr>\n",
       "      <th>count</th>\n",
       "      <td>891</td>\n",
       "      <td>891</td>\n",
       "      <td>891</td>\n",
       "      <td>204</td>\n",
       "      <td>889</td>\n",
       "    </tr>\n",
       "    <tr>\n",
       "      <th>unique</th>\n",
       "      <td>891</td>\n",
       "      <td>2</td>\n",
       "      <td>681</td>\n",
       "      <td>147</td>\n",
       "      <td>3</td>\n",
       "    </tr>\n",
       "    <tr>\n",
       "      <th>top</th>\n",
       "      <td>Moubarek, Master. Halim Gonios (\"William George\")</td>\n",
       "      <td>male</td>\n",
       "      <td>CA. 2343</td>\n",
       "      <td>C23 C25 C27</td>\n",
       "      <td>S</td>\n",
       "    </tr>\n",
       "    <tr>\n",
       "      <th>freq</th>\n",
       "      <td>1</td>\n",
       "      <td>577</td>\n",
       "      <td>7</td>\n",
       "      <td>4</td>\n",
       "      <td>644</td>\n",
       "    </tr>\n",
       "  </tbody>\n",
       "</table>"
      ],
      "text/plain": [
       "<IPython.core.display.HTML object>"
      ]
     },
     "metadata": {},
     "output_type": "display_data"
    }
   ],
   "source": [
    "describe_categorical(X)"
   ]
  },
  {
   "cell_type": "code",
   "execution_count": 92,
   "metadata": {
    "collapsed": true
   },
   "outputs": [],
   "source": [
    "# Drop the variables I don't feel like dealing with for this tutorial\n",
    "X.drop([\"Name\", \"Ticket\", \"PassengerId\"], axis=1, inplace=True)\n",
    "X_test.drop([\"Name\", \"Ticket\", \"PassengerId\"], axis=1, inplace=True)"
   ]
  },
  {
   "cell_type": "code",
   "execution_count": 117,
   "metadata": {
    "collapsed": true
   },
   "outputs": [],
   "source": [
    "# Change the Cabin variable to be only the first letter or None\n",
    "def clean_cabin(x):\n",
    "    try:\n",
    "        return x[0]\n",
    "    except TypeError:\n",
    "        return \"None\"\n",
    "    \n",
    "X[\"Cabin\"] = X.Cabin.apply(clean_cabin)\n",
    "X_test[\"Cabin\"] = X_test.Cabin.apply(clean_cabin)"
   ]
  },
  {
   "cell_type": "code",
   "execution_count": 94,
   "metadata": {
    "collapsed": false
   },
   "outputs": [],
   "source": [
    "categorical_variables = ['Sex', 'Cabin', 'Embarked']\n",
    "\n",
    "for variable in categorical_variables:\n",
    "    # Fill missing data with the word \"Missing\"\n",
    "    X[variable].fillna(\"Missing\", inplace=True)\n",
    "    X_test[variable].fillna(\"Missing\", inplace=True)\n",
    "    # Create array of dummies\n",
    "    dummies = pd.get_dummies(X[variable], prefix=variable)\n",
    "    # Update X to include dummies and drop the main variable\n",
    "    X = pd.concat([X, dummies], axis=1)\n",
    "    X.drop([variable], axis=1, inplace=True)"
   ]
  },
  {
   "cell_type": "code",
   "execution_count": 95,
   "metadata": {
    "collapsed": false
   },
   "outputs": [
    {
     "data": {
      "text/html": [
       "<table border=\"1\" class=\"dataframe\">\n",
       "  <thead>\n",
       "    <tr style=\"text-align: right;\">\n",
       "      <th></th>\n",
       "      <th>Pclass</th>\n",
       "      <th>Age</th>\n",
       "      <th>SibSp</th>\n",
       "      <th>Parch</th>\n",
       "      <th>Fare</th>\n",
       "      <th>Sex_female</th>\n",
       "      <th>Sex_male</th>\n",
       "      <th>Cabin_A</th>\n",
       "      <th>Cabin_B</th>\n",
       "      <th>Cabin_C</th>\n",
       "      <th>Cabin_D</th>\n",
       "      <th>Cabin_E</th>\n",
       "      <th>Cabin_F</th>\n",
       "      <th>Cabin_G</th>\n",
       "      <th>Cabin_None</th>\n",
       "      <th>Cabin_T</th>\n",
       "      <th>Embarked_C</th>\n",
       "      <th>Embarked_Missing</th>\n",
       "      <th>Embarked_Q</th>\n",
       "      <th>Embarked_S</th>\n",
       "    </tr>\n",
       "  </thead>\n",
       "  <tbody>\n",
       "    <tr>\n",
       "      <th>0</th>\n",
       "      <td>3</td>\n",
       "      <td>22.000000</td>\n",
       "      <td>1</td>\n",
       "      <td>0</td>\n",
       "      <td>7.2500</td>\n",
       "      <td>0.0</td>\n",
       "      <td>1.0</td>\n",
       "      <td>0.0</td>\n",
       "      <td>0.0</td>\n",
       "      <td>0.0</td>\n",
       "      <td>0.0</td>\n",
       "      <td>0.0</td>\n",
       "      <td>0.0</td>\n",
       "      <td>0.0</td>\n",
       "      <td>1.0</td>\n",
       "      <td>0.0</td>\n",
       "      <td>0.0</td>\n",
       "      <td>0.0</td>\n",
       "      <td>0.0</td>\n",
       "      <td>1.0</td>\n",
       "    </tr>\n",
       "    <tr>\n",
       "      <th>1</th>\n",
       "      <td>1</td>\n",
       "      <td>38.000000</td>\n",
       "      <td>1</td>\n",
       "      <td>0</td>\n",
       "      <td>71.2833</td>\n",
       "      <td>1.0</td>\n",
       "      <td>0.0</td>\n",
       "      <td>0.0</td>\n",
       "      <td>0.0</td>\n",
       "      <td>1.0</td>\n",
       "      <td>0.0</td>\n",
       "      <td>0.0</td>\n",
       "      <td>0.0</td>\n",
       "      <td>0.0</td>\n",
       "      <td>0.0</td>\n",
       "      <td>0.0</td>\n",
       "      <td>1.0</td>\n",
       "      <td>0.0</td>\n",
       "      <td>0.0</td>\n",
       "      <td>0.0</td>\n",
       "    </tr>\n",
       "    <tr>\n",
       "      <th>2</th>\n",
       "      <td>3</td>\n",
       "      <td>26.000000</td>\n",
       "      <td>0</td>\n",
       "      <td>0</td>\n",
       "      <td>7.9250</td>\n",
       "      <td>1.0</td>\n",
       "      <td>0.0</td>\n",
       "      <td>0.0</td>\n",
       "      <td>0.0</td>\n",
       "      <td>0.0</td>\n",
       "      <td>0.0</td>\n",
       "      <td>0.0</td>\n",
       "      <td>0.0</td>\n",
       "      <td>0.0</td>\n",
       "      <td>1.0</td>\n",
       "      <td>0.0</td>\n",
       "      <td>0.0</td>\n",
       "      <td>0.0</td>\n",
       "      <td>0.0</td>\n",
       "      <td>1.0</td>\n",
       "    </tr>\n",
       "    <tr>\n",
       "      <th>3</th>\n",
       "      <td>1</td>\n",
       "      <td>35.000000</td>\n",
       "      <td>1</td>\n",
       "      <td>0</td>\n",
       "      <td>53.1000</td>\n",
       "      <td>1.0</td>\n",
       "      <td>0.0</td>\n",
       "      <td>0.0</td>\n",
       "      <td>0.0</td>\n",
       "      <td>1.0</td>\n",
       "      <td>0.0</td>\n",
       "      <td>0.0</td>\n",
       "      <td>0.0</td>\n",
       "      <td>0.0</td>\n",
       "      <td>0.0</td>\n",
       "      <td>0.0</td>\n",
       "      <td>0.0</td>\n",
       "      <td>0.0</td>\n",
       "      <td>0.0</td>\n",
       "      <td>1.0</td>\n",
       "    </tr>\n",
       "    <tr>\n",
       "      <th>4</th>\n",
       "      <td>3</td>\n",
       "      <td>35.000000</td>\n",
       "      <td>0</td>\n",
       "      <td>0</td>\n",
       "      <td>8.0500</td>\n",
       "      <td>0.0</td>\n",
       "      <td>1.0</td>\n",
       "      <td>0.0</td>\n",
       "      <td>0.0</td>\n",
       "      <td>0.0</td>\n",
       "      <td>0.0</td>\n",
       "      <td>0.0</td>\n",
       "      <td>0.0</td>\n",
       "      <td>0.0</td>\n",
       "      <td>1.0</td>\n",
       "      <td>0.0</td>\n",
       "      <td>0.0</td>\n",
       "      <td>0.0</td>\n",
       "      <td>0.0</td>\n",
       "      <td>1.0</td>\n",
       "    </tr>\n",
       "    <tr>\n",
       "      <th>...</th>\n",
       "      <td>...</td>\n",
       "      <td>...</td>\n",
       "      <td>...</td>\n",
       "      <td>...</td>\n",
       "      <td>...</td>\n",
       "      <td>...</td>\n",
       "      <td>...</td>\n",
       "      <td>...</td>\n",
       "      <td>...</td>\n",
       "      <td>...</td>\n",
       "      <td>...</td>\n",
       "      <td>...</td>\n",
       "      <td>...</td>\n",
       "      <td>...</td>\n",
       "      <td>...</td>\n",
       "      <td>...</td>\n",
       "      <td>...</td>\n",
       "      <td>...</td>\n",
       "      <td>...</td>\n",
       "      <td>...</td>\n",
       "    </tr>\n",
       "    <tr>\n",
       "      <th>886</th>\n",
       "      <td>2</td>\n",
       "      <td>27.000000</td>\n",
       "      <td>0</td>\n",
       "      <td>0</td>\n",
       "      <td>13.0000</td>\n",
       "      <td>0.0</td>\n",
       "      <td>1.0</td>\n",
       "      <td>0.0</td>\n",
       "      <td>0.0</td>\n",
       "      <td>0.0</td>\n",
       "      <td>0.0</td>\n",
       "      <td>0.0</td>\n",
       "      <td>0.0</td>\n",
       "      <td>0.0</td>\n",
       "      <td>1.0</td>\n",
       "      <td>0.0</td>\n",
       "      <td>0.0</td>\n",
       "      <td>0.0</td>\n",
       "      <td>0.0</td>\n",
       "      <td>1.0</td>\n",
       "    </tr>\n",
       "    <tr>\n",
       "      <th>887</th>\n",
       "      <td>1</td>\n",
       "      <td>19.000000</td>\n",
       "      <td>0</td>\n",
       "      <td>0</td>\n",
       "      <td>30.0000</td>\n",
       "      <td>1.0</td>\n",
       "      <td>0.0</td>\n",
       "      <td>0.0</td>\n",
       "      <td>1.0</td>\n",
       "      <td>0.0</td>\n",
       "      <td>0.0</td>\n",
       "      <td>0.0</td>\n",
       "      <td>0.0</td>\n",
       "      <td>0.0</td>\n",
       "      <td>0.0</td>\n",
       "      <td>0.0</td>\n",
       "      <td>0.0</td>\n",
       "      <td>0.0</td>\n",
       "      <td>0.0</td>\n",
       "      <td>1.0</td>\n",
       "    </tr>\n",
       "    <tr>\n",
       "      <th>888</th>\n",
       "      <td>3</td>\n",
       "      <td>29.699118</td>\n",
       "      <td>1</td>\n",
       "      <td>2</td>\n",
       "      <td>23.4500</td>\n",
       "      <td>1.0</td>\n",
       "      <td>0.0</td>\n",
       "      <td>0.0</td>\n",
       "      <td>0.0</td>\n",
       "      <td>0.0</td>\n",
       "      <td>0.0</td>\n",
       "      <td>0.0</td>\n",
       "      <td>0.0</td>\n",
       "      <td>0.0</td>\n",
       "      <td>1.0</td>\n",
       "      <td>0.0</td>\n",
       "      <td>0.0</td>\n",
       "      <td>0.0</td>\n",
       "      <td>0.0</td>\n",
       "      <td>1.0</td>\n",
       "    </tr>\n",
       "    <tr>\n",
       "      <th>889</th>\n",
       "      <td>1</td>\n",
       "      <td>26.000000</td>\n",
       "      <td>0</td>\n",
       "      <td>0</td>\n",
       "      <td>30.0000</td>\n",
       "      <td>0.0</td>\n",
       "      <td>1.0</td>\n",
       "      <td>0.0</td>\n",
       "      <td>0.0</td>\n",
       "      <td>1.0</td>\n",
       "      <td>0.0</td>\n",
       "      <td>0.0</td>\n",
       "      <td>0.0</td>\n",
       "      <td>0.0</td>\n",
       "      <td>0.0</td>\n",
       "      <td>0.0</td>\n",
       "      <td>1.0</td>\n",
       "      <td>0.0</td>\n",
       "      <td>0.0</td>\n",
       "      <td>0.0</td>\n",
       "    </tr>\n",
       "    <tr>\n",
       "      <th>890</th>\n",
       "      <td>3</td>\n",
       "      <td>32.000000</td>\n",
       "      <td>0</td>\n",
       "      <td>0</td>\n",
       "      <td>7.7500</td>\n",
       "      <td>0.0</td>\n",
       "      <td>1.0</td>\n",
       "      <td>0.0</td>\n",
       "      <td>0.0</td>\n",
       "      <td>0.0</td>\n",
       "      <td>0.0</td>\n",
       "      <td>0.0</td>\n",
       "      <td>0.0</td>\n",
       "      <td>0.0</td>\n",
       "      <td>1.0</td>\n",
       "      <td>0.0</td>\n",
       "      <td>0.0</td>\n",
       "      <td>0.0</td>\n",
       "      <td>1.0</td>\n",
       "      <td>0.0</td>\n",
       "    </tr>\n",
       "  </tbody>\n",
       "</table>"
      ],
      "text/plain": [
       "<IPython.core.display.HTML object>"
      ]
     },
     "metadata": {},
     "output_type": "display_data"
    }
   ],
   "source": [
    "# Look at all the columns in the dataset\n",
    "def printall(X, max_rows=10):\n",
    "    from IPython.display import display, HTML\n",
    "    display(HTML(X.to_html(max_rows=max_rows)))\n",
    "    \n",
    "printall(X)"
   ]
  },
  {
   "cell_type": "code",
   "execution_count": 96,
   "metadata": {
    "collapsed": false
   },
   "outputs": [
    {
     "name": "stdout",
     "output_type": "stream",
     "text": [
      "C - Stat:  0.863521128261\n"
     ]
    }
   ],
   "source": [
    "model = RandomForestRegressor(100, oob_score=True, n_jobs=-1, random_state=42)\n",
    "model.fit(X, y)\n",
    "print(\"C - Stat: \", roc_auc_score(y, model.oob_prediction_))"
   ]
  },
  {
   "cell_type": "markdown",
   "metadata": {},
   "source": [
    "This is a pretty good model. Now, before we try some different parameters for the model, let's use the Random Forest to help us with some EDA.\n",
    "\n",
    "### Variable importance measures"
   ]
  },
  {
   "cell_type": "code",
   "execution_count": 97,
   "metadata": {
    "collapsed": false
   },
   "outputs": [
    {
     "data": {
      "text/plain": [
       "array([  9.11384671e-02,   2.38891052e-01,   4.43567267e-02,\n",
       "         2.15831071e-02,   2.15047796e-01,   1.43423437e-01,\n",
       "         1.58822440e-01,   2.95342368e-03,   3.79055011e-03,\n",
       "         6.47116172e-03,   4.30998991e-03,   8.59480266e-03,\n",
       "         1.02403226e-03,   8.12054428e-04,   2.67741854e-02,\n",
       "         6.64265010e-05,   1.06189189e-02,   0.00000000e+00,\n",
       "         6.00379221e-03,   1.53176370e-02])"
      ]
     },
     "execution_count": 97,
     "metadata": {},
     "output_type": "execute_result"
    }
   ],
   "source": [
    "model.feature_importances_"
   ]
  },
  {
   "cell_type": "code",
   "execution_count": 101,
   "metadata": {
    "collapsed": false
   },
   "outputs": [
    {
     "data": {
      "image/png": "[encoded data removed]",
      "text/plain": [
       "<matplotlib.figure.Figure at 0x109a2bd30>"
      ]
     },
     "metadata": {},
     "output_type": "display_data"
    }
   ],
   "source": [
    "# Simple version that shows all of the variables\n",
    "feature_importances = pd.Series(model.feature_importances_, index=X.columns)\n",
    "feature_importances.sort_values(inplace=True)\n",
    "feature_importances.plot(kind=\"barh\", figsize=(7,6));"
   ]
  },
  {
   "cell_type": "markdown",
   "metadata": {},
   "source": [
    "## Parameter tests\n",
    "\n",
    "Parameters to test\n",
    "\n",
    "### - Parameters that will make your model better\n",
    "    - <b>n_estimators</b>: The number of trees in the forest. Choose as high of a number your computer can handle.\n",
    "    - <b>max_features</b>: The number of features to consider when looking for the best split\n",
    "    - <b>min_samples_leaf</b>: The minimum number of samples in newly created leaves. Try [1,2,3]. If 3 is the best, try higher numbers such as 1 through 10.\n",
    "\n",
    "### - Parameters that will make it easier to train your model\n",
    "    - <b>n_jobs</b>: Determines iff multiple processors should be used to train and test the model. Always set this to -1 and %%timeit vs. if it is set to 1. It should be much faster (especially when many trees are trained).\n",
    "\n",
    "## n_jobs"
   ]
  },
  {
   "cell_type": "code",
   "execution_count": 104,
   "metadata": {
    "collapsed": false
   },
   "outputs": [
    {
     "name": "stdout",
     "output_type": "stream",
     "text": [
      "1 loop, best of 3: 3.29 s per loop\n"
     ]
    }
   ],
   "source": [
    "%%timeit\n",
    "model = RandomForestRegressor(1000, oob_score=True, n_jobs=1, random_state=42)\n",
    "model.fit(X, y)"
   ]
  },
  {
   "cell_type": "code",
   "execution_count": 105,
   "metadata": {
    "collapsed": false
   },
   "outputs": [
    {
     "name": "stdout",
     "output_type": "stream",
     "text": [
      "1 loop, best of 3: 2.41 s per loop\n"
     ]
    }
   ],
   "source": [
    "%%timeit\n",
    "model = RandomForestRegressor(1000, oob_score=True, n_jobs=-1, random_state=42)\n",
    "model.fit(X, y)"
   ]
  },
  {
   "cell_type": "markdown",
   "metadata": {},
   "source": [
    "## n_estimators"
   ]
  },
  {
   "cell_type": "code",
   "execution_count": 106,
   "metadata": {
    "collapsed": false
   },
   "outputs": [
    {
     "name": "stdout",
     "output_type": "stream",
     "text": [
      "30 trees\n",
      "C-stat:  0.853875733657\n",
      "\n",
      "50 trees\n",
      "C-stat:  0.860698345743\n",
      "\n",
      "100 trees\n",
      "C-stat:  0.863521128261\n",
      "\n",
      "200 trees\n",
      "C-stat:  0.862192290076\n",
      "\n",
      "500 trees\n",
      "C-stat:  0.863739494456\n",
      "\n",
      "1000 trees\n",
      "C-stat:  0.864043076726\n",
      "\n",
      "2000 trees\n",
      "C-stat:  0.863449227197\n",
      "\n"
     ]
    },
    {
     "data": {
      "image/png": "[encoded data removed]",
      "text/plain": [
       "<matplotlib.figure.Figure at 0x11c5135c0>"
      ]
     },
     "metadata": {},
     "output_type": "display_data"
    }
   ],
   "source": [
    "results = []\n",
    "n_estimator_options = [30, 50, 100, 200, 500, 1000, 2000]\n",
    "\n",
    "for trees in n_estimator_options:\n",
    "    model = RandomForestRegressor(trees, oob_score=True, n_jobs=-1, random_state=42)\n",
    "    model.fit(X, y)\n",
    "    print(trees, \"trees\")\n",
    "    roc = roc_auc_score(y, model.oob_prediction_)\n",
    "    print(\"C-stat: \", roc)\n",
    "    results.append(roc)\n",
    "    print(\"\")\n",
    "    \n",
    "pd.Series(results, n_estimator_options).plot();"
   ]
  },
  {
   "cell_type": "code",
   "execution_count": 108,
   "metadata": {
    "collapsed": false
   },
   "outputs": [
    {
     "name": "stdout",
     "output_type": "stream",
     "text": [
      "auto option\n",
      "C-stat:  0.864043076726\n",
      "\n",
      "None option\n",
      "C-stat:  0.864043076726\n",
      "\n",
      "sqrt option\n",
      "C-stat:  0.86337466313\n",
      "\n",
      "log2 option\n",
      "C-stat:  0.86337466313\n",
      "\n",
      "0.9 option\n",
      "C-stat:  0.863534443273\n",
      "\n",
      "0.2 option\n",
      "C-stat:  0.86337466313\n",
      "\n"
     ]
    },
    {
     "data": {
      "image/png": "[encoded data removed]",
      "text/plain": [
       "<matplotlib.figure.Figure at 0x11f822f98>"
      ]
     },
     "metadata": {},
     "output_type": "display_data"
    }
   ],
   "source": [
    "results = []\n",
    "max_features_options = [\"auto\", None, \"sqrt\", \"log2\", 0.9, 0.2]\n",
    "\n",
    "for max_features in max_features_options:\n",
    "    model = RandomForestRegressor(n_estimators=1000, oob_score=True, n_jobs=-1, random_state=42, max_features=max_features)\n",
    "    model.fit(X, y)\n",
    "    print(max_features, \"option\")\n",
    "    roc = roc_auc_score(y, model.oob_prediction_)\n",
    "    print(\"C-stat: \", roc)\n",
    "    results.append(roc)\n",
    "    print(\"\")\n",
    "    \n",
    "pd.Series(results, max_features_options).plot(kind=\"barh\", xlim=(.85,.88));"
   ]
  },
  {
   "cell_type": "code",
   "execution_count": 109,
   "metadata": {
    "collapsed": false
   },
   "outputs": [
    {
     "name": "stdout",
     "output_type": "stream",
     "text": [
      "1 min samples\n",
      "C-stat:  0.864043076726\n",
      "\n",
      "2 min samples\n",
      "C-stat:  0.869654022731\n",
      "\n",
      "3 min samples\n",
      "C-stat:  0.871571384442\n",
      "\n",
      "4 min samples\n",
      "C-stat:  0.873478094142\n",
      "\n",
      "5 min samples\n",
      "C-stat:  0.874269005848\n",
      "\n",
      "6 min samples\n",
      "C-stat:  0.874029335634\n",
      "\n",
      "7 min samples\n",
      "C-stat:  0.873304998988\n",
      "\n",
      "8 min samples\n",
      "C-stat:  0.871866977705\n",
      "\n",
      "9 min samples\n",
      "C-stat:  0.869294517411\n",
      "\n",
      "10 min samples\n",
      "C-stat:  0.867430415748\n",
      "\n"
     ]
    },
    {
     "data": {
      "image/png": "[encoded data removed]",
      "text/plain": [
       "<matplotlib.figure.Figure at 0x11f80a7b8>"
      ]
     },
     "metadata": {},
     "output_type": "display_data"
    }
   ],
   "source": [
    "results = []\n",
    "min_samples_leaf_options = [1,2,3,4,5,6,7,8,9,10]\n",
    "\n",
    "for min_samples in min_samples_leaf_options:\n",
    "    model = RandomForestRegressor(n_estimators=1000,\n",
    "                                 oob_score=True,\n",
    "                                 n_jobs=-1,\n",
    "                                 random_state=42,\n",
    "                                 max_features=\"auto\",\n",
    "                                 min_samples_leaf=min_samples)\n",
    "    model.fit(X, y)\n",
    "    print(min_samples,\"min samples\")\n",
    "    roc = roc_auc_score(y, model.oob_prediction_)\n",
    "    print(\"C-stat: \",roc)\n",
    "    results.append(roc)\n",
    "    print(\"\")\n",
    "    \n",
    "pd.Series(results, min_samples_leaf_options).plot();"
   ]
  },
  {
   "cell_type": "markdown",
   "metadata": {},
   "source": [
    "## Final model"
   ]
  },
  {
   "cell_type": "code",
   "execution_count": 111,
   "metadata": {
    "collapsed": false
   },
   "outputs": [
    {
     "name": "stdout",
     "output_type": "stream",
     "text": [
      "C-stat:  0.874269005848\n"
     ]
    }
   ],
   "source": [
    "model = RandomForestRegressor(n_estimators=1000,\n",
    "                             oob_score=True,\n",
    "                             n_jobs=-1,\n",
    "                             random_state=42,\n",
    "                             max_features=\"auto\",\n",
    "                             min_samples_leaf=5)\n",
    "model.fit(X, y)\n",
    "roc = roc_auc_score(y, model.oob_prediction_)\n",
    "print(\"C-stat: \",roc)"
   ]
  },
  {
   "cell_type": "code",
   "execution_count": null,
   "metadata": {
    "collapsed": true
   },
   "outputs": [],
   "source": []
  }
 ],
 "metadata": {
  "kernelspec": {
   "display_name": "Python [Root]",
   "language": "python",
   "name": "Python [Root]"
  },
  "language_info": {
   "codemirror_mode": {
    "name": "ipython",
    "version": 3
   },
   "file_extension": ".py",
   "mimetype": "text/x-python",
   "name": "python",
   "nbconvert_exporter": "python",
   "pygments_lexer": "ipython3",
   "version": "3.5.2"
  }
 },
 "nbformat": 4,
 "nbformat_minor": 0
}
